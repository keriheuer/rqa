{
 "cells": [
  {
   "cell_type": "markdown",
   "id": "c79b8e2b",
   "metadata": {},
   "source": [
    "# Tutorial: Climate Networks"
   ]
  },
  {
   "cell_type": "markdown",
   "id": "677ae7d7",
   "metadata": {},
   "source": [
    "The objective of this tutorial is to introduce climate networks and explain and illustrate their application with the __pyunicorn__ package. First some theoretical background for understanding general climate networks will be given and then some methods provided by `pyunicorn.climate.ClimateNetwork` will be illustrated. An introduction and application of coupled climate networks will follow. For a detailed discussion and further references, please consult __[Donges et al., 2015](https://aip.scitation.org/doi/10.1063/1.4934554)__, on which this tutorial is based. "
   ]
  },
  {
   "cell_type": "markdown",
   "id": "76c98668",
   "metadata": {},
   "source": [
    "## Introduction"
   ]
  },
  {
   "cell_type": "markdown",
   "id": "a56c11e0",
   "metadata": {},
   "source": [
    "_Climate networks (CN)_ are a way to apply complex network theory to the climate system, by assuming that each node represents a varying dynamical system. Of interest is then the collective behaviour of these interacting dynamical system and the structure of the resulting network. This approach was first introduced by __[Tsonis and Roebber, 2004](https://www.sciencedirect.com/science/article/abs/pii/S0378437103009646)__.\n",
    "\n",
    "Climate network analysis is a versatile approach for investigating climatological data and can be used as a complementary method to classical techniques from multivariate statistics. The approach allows for the analysis of single fields of climatological time series, e.g. surface air temperature observed on a grid, or even two or more fields. It has been succesfully applied in many cases, for example to dynamics and predictability of the El Niño Phenomenon \\[__[Radebach et al., 2013](https://arxiv.org/abs/1310.5494)__\\]."
   ]
  },
  {
   "cell_type": "markdown",
   "id": "05e76cc7",
   "metadata": {},
   "source": [
    "## Theory of Climate Networks (CN)"
   ]
  },
  {
   "cell_type": "markdown",
   "id": "fcc79d2d",
   "metadata": {},
   "source": [
    "Climate networks (class `climate.ClimateNetwork`) are a typical application of _functional networks_, which allow to study the dynamical relationships between subsystems of a high-dimensional complex system by constructing networks from it. The package provides classes for the construction and analysis of such networks, representing the statistical interdependency structure within and between fields of time series using various similarity measures."
   ]
  },
  {
   "cell_type": "markdown",
   "id": "1860c9d0",
   "metadata": {},
   "source": [
    "### Coupling Analysis"
   ]
  },
  {
   "cell_type": "markdown",
   "id": "30cd9555",
   "metadata": {},
   "source": [
    "Climate Networks represent strong statistical interrelationships between time series of climatological fields. These statistical interrelationships can be estimated with methods from the `timeseries.CouplingAnalysis` class in terms of matrices of _statistical similarities_ $\\textbf{S}$, such as the _(lagged) classical linear Pearson product-moment correlation coefficient_ (CC). \n",
    "\n",
    "The CC of two zero-mean time series Variable $X$,$Y$, implemented in `CouplingAnalysis.cross_correlation`, is given by \n",
    "\n",
    "$$\\rho_{XY}(\\tau)=\\frac{\\langle X_{t-\\tau}, Y_t \\rangle}{\\sigma_X \\sigma_Y}$$\n",
    "\n",
    "which depents on the covariance $\\langle X_{t-\\tau}, Y_t \\rangle$ and standard deviations $\\sigma_X, \\sigma_Y$. Lags $\\tau > 0$ correspond to the linear association of past values of $X$ with $Y$, and vice versa for $\\tau < 0$. "
   ]
  },
  {
   "cell_type": "markdown",
   "id": "70377c40",
   "metadata": {},
   "source": [
    "#### Similarity Measures for Climate Networks"
   ]
  },
  {
   "cell_type": "markdown",
   "id": "fadb2909",
   "metadata": {},
   "source": [
    "By thresholding the matrix of a statistical similarity measure $\\textbf{S}$, e.g. based on the CC from above, the interellationships between time series of climate networks can be reconstructed:\n",
    "\n",
    "$$A_{pq} = \\Theta(S_{pq}-\\beta), \\text{ if } p \\neq q$$\n",
    "\n",
    "and 0 otherwise. $\\Theta$ is the Heaviside function, $\\beta$ denotes a threshold parameter and $A_{pp} = 0$ is set for all nodes $p$ to exclude self-loops. \n",
    "\n",
    "A climate network that is reconstructed using the pearson correlation  from above is call _pearson correlation climate network_."
   ]
  },
  {
   "cell_type": "markdown",
   "id": "9c64c013",
   "metadata": {},
   "source": [
    "## Constructing CN with pyunicorn"
   ]
  },
  {
   "cell_type": "markdown",
   "id": "3027c7f8",
   "metadata": {},
   "source": [
    "After establishing some basic theoretic background, we can use pyunicorn to try out some tools for climate networks. First, download the data set following this __[link](https://psl.noaa.gov/repository/entry/show?entryid=synth%3Ae570c8f9-ec09-4e89-93b4-babd5651e7a9%3AL25jZXAucmVhbmFseXNpcy5kZXJpdmVkL3N1cmZhY2UvYWlyLm1vbi5tZWFuLm5j)__ and copy it to the directory \"notebooks\" of this script ot change the path below."
   ]
  },
  {
   "cell_type": "code",
   "execution_count": 1,
   "id": "35c8e273",
   "metadata": {},
   "outputs": [],
   "source": [
    "DATA_FILENAME = \"./air.mon.mean.nc\""
   ]
  },
  {
   "cell_type": "markdown",
   "id": "543a9d17",
   "metadata": {},
   "source": [
    "Now we will start with some imports and some specifications regarding the data set."
   ]
  },
  {
   "cell_type": "code",
   "execution_count": 18,
   "id": "e793f1a2",
   "metadata": {},
   "outputs": [],
   "source": [
    "import numpy as np\n",
    "from pyunicorn import climate\n",
    "from matplotlib import pyplot as plt"
   ]
  },
  {
   "cell_type": "code",
   "execution_count": 3,
   "id": "a1e3f614",
   "metadata": {},
   "outputs": [],
   "source": [
    "FILE_TYPE = \"NetCDF\"\n",
    "#  Type of data file (\"NetCDF\" indicates a NetCDF file with data on a regular\n",
    "#  lat-lon grid, \"iNetCDF\" allows for arbitrary grids - > see documentation).\n",
    "#  For example, the \"NetCDF\" FILE_TYPE is compatible with data from the IPCC\n",
    "#  AR4 model ensemble or the reanalysis data provided by NCEP/NCAR."
   ]
  },
  {
   "cell_type": "code",
   "execution_count": 4,
   "id": "766f7c90",
   "metadata": {},
   "outputs": [],
   "source": [
    "#  Indicate data source (optional)\n",
    "DATA_SOURCE = \"ncep_ncar_reanalysis\""
   ]
  },
  {
   "cell_type": "code",
   "execution_count": 5,
   "id": "30518b4e",
   "metadata": {},
   "outputs": [],
   "source": [
    "#  Name of observable in NetCDF file (\"air\" indicates surface air temperature\n",
    "#  in NCEP/NCAR reanalysis data)\n",
    "OBSERVABLE_NAME = \"air\""
   ]
  },
  {
   "cell_type": "code",
   "execution_count": 6,
   "id": "24efb40c",
   "metadata": {},
   "outputs": [],
   "source": [
    "#  Select a subset in time and space from the data (e.g., a particular region\n",
    "#  or a particular time window, or both)\n",
    "WINDOW = {\"time_min\": 0., \"time_max\": 0., \"lat_min\": 0, \"lon_min\": 0,\n",
    "          \"lat_max\": 30, \"lon_max\": 0}  # selects the whole data set"
   ]
  },
  {
   "cell_type": "code",
   "execution_count": 7,
   "id": "6373f01d",
   "metadata": {},
   "outputs": [],
   "source": [
    "#  Indicate the length of the annual cycle in the data (e.g., 12 for monthly\n",
    "#  data). This is used for calculating climatological anomaly values\n",
    "#  correctly.\n",
    "TIME_CYCLE = 12"
   ]
  },
  {
   "cell_type": "markdown",
   "id": "ef63ac55",
   "metadata": {},
   "source": [
    "Now we set some values related to the climate network construction, the first being the threshold $\\beta$ from above."
   ]
  },
  {
   "cell_type": "code",
   "execution_count": 8,
   "id": "b6cf01fc",
   "metadata": {},
   "outputs": [],
   "source": [
    "#  For setting fixed threshold\n",
    "THRESHOLD = 0.5\n",
    "\n",
    "#  For setting fixed link density\n",
    "LINK_DENSITY = 0.005\n",
    "\n",
    "#  Indicates whether to use only data from winter months (DJF) for calculating\n",
    "#  correlations\n",
    "WINTER_ONLY = False"
   ]
  },
  {
   "cell_type": "markdown",
   "id": "dc905586",
   "metadata": {},
   "source": [
    "Now we create a ClimateData object containing our data and then print the information."
   ]
  },
  {
   "cell_type": "code",
   "execution_count": 9,
   "id": "4e49c74a",
   "metadata": {
    "scrolled": true
   },
   "outputs": [
    {
     "name": "stdout",
     "output_type": "stream",
     "text": [
      "Reading NetCDF File and converting data to NumPy array...\n",
      "File format: NETCDF4_CLASSIC\n",
      "Global attributes:\n",
      "description: Data from NCEP initialized reanalysis (4x/day).  These are the 0.9950 sigma level values\n",
      "platform: Model\n",
      "Conventions: COARDS\n",
      "NCO: 20121012\n",
      "history: Thu May  4 20:11:16 2000: ncrcat -d time,0,623 /Datasets/ncep.reanalysis.derived/surface/air.mon.mean.nc air.mon.mean.nc\n",
      "Thu May  4 18:11:50 2000: ncrcat -d time,0,622 /Datasets/ncep.reanalysis.derived/surface/air.mon.mean.nc ./surface/air.mon.mean.nc\n",
      "Mon Jul  5 23:47:18 1999: ncrcat ./air.mon.mean.nc /Datasets/ncep.reanalysis.derived/surface/air.mon.mean.nc /dm/dmwork/nmc.rean.ingest/combinedMMs/surface/air.mon.mean.nc\n",
      "/home/hoop/crdc/cpreanjuke2farm/cpreanjuke2farm Mon Oct 23 21:04:20 1995 from air.sfc.gauss.85.nc\n",
      "created 95/03/13 by Hoop (netCDF2.3)\n",
      "Converted to chunked, deflated non-packed NetCDF4 2014/09\n",
      "title: monthly mean air.sig995 from the NCEP Reanalysis\n",
      "dataset_title: NCEP-NCAR Reanalysis 1\n",
      "References: http://www.psl.noaa.gov/data/gridded/data.ncep.reanalysis.derived.html\n",
      "Variables (size):\n",
      "lat (73)\n",
      "lon (144)\n",
      "time (900)\n",
      "air (900)\n",
      "ClimateData:\n",
      "Data: 10512 grid points, 9460800 measurements.\n",
      "Geographical boundaries:\n",
      "         time     lat     lon\n",
      "   min 1297320.0  -90.00    0.00\n",
      "   max 1954032.0   90.00  357.50\n"
     ]
    }
   ],
   "source": [
    "data = climate.ClimateData.Load(\n",
    "    file_name=DATA_FILENAME, observable_name=OBSERVABLE_NAME,\n",
    "    data_source=DATA_SOURCE, file_type=FILE_TYPE,\n",
    "    window=WINDOW, time_cycle=TIME_CYCLE)\n",
    "\n",
    "#  Print some information on the data set\n",
    "print(data)"
   ]
  },
  {
   "cell_type": "markdown",
   "id": "2980a2c0",
   "metadata": {},
   "source": [
    "Now we create a climate network based on Pearson correlation without lag and with fixed threshold."
   ]
  },
  {
   "cell_type": "code",
   "execution_count": 10,
   "id": "c5326b90",
   "metadata": {},
   "outputs": [
    {
     "name": "stdout",
     "output_type": "stream",
     "text": [
      "Generating a Tsonis climate network...\n",
      "Calculating daily (monthly) anomaly values...\n",
      "Calculating correlation matrix at zero lag from anomaly values...\n",
      "Extracting network adjacency matrix by thresholding...\n",
      "Setting area weights according to type surface ...\n",
      "Setting area weights according to type surface ...\n"
     ]
    }
   ],
   "source": [
    "net = climate.TsonisClimateNetwork(\n",
    "    data, threshold=THRESHOLD, winter_only=WINTER_ONLY)"
   ]
  },
  {
   "cell_type": "markdown",
   "id": "5e7b5963",
   "metadata": {},
   "source": [
    "Alternatively, several similarity measures and construction mechanisms may be chosen here."
   ]
  },
  {
   "cell_type": "code",
   "execution_count": 12,
   "id": "b8c963fd",
   "metadata": {},
   "outputs": [],
   "source": [
    "#  Create a climate network based on Pearson correlation without lag and with\n",
    "#  fixed link density\n",
    "# net = climate.TsonisClimateNetwork(\n",
    "#     data, link_density=LINK_DENSITY, winter_only=WINTER_ONLY)\n",
    "\n",
    "#  Create a climate network based on Spearman's rank order correlation without\n",
    "#  lag and with fixed threshold\n",
    "# net = climate.SpearmanClimateNetwork(\n",
    "#     data, threshold=THRESHOLD, winter_only=WINTER_ONLY)\n",
    "\n",
    "#  Create a climate network based on mutual information without lag and with\n",
    "#  fixed threshold\n",
    "# net = climate.MutualInfoClimateNetwork(\n",
    "#     data, threshold=THRESHOLD, winter_only=WINTER_ONLY)"
   ]
  },
  {
   "cell_type": "markdown",
   "id": "b443476e",
   "metadata": {},
   "source": [
    "We finish by doing some calculations and saving them to text files."
   ]
  },
  {
   "cell_type": "code",
   "execution_count": 11,
   "id": "4f568b0f",
   "metadata": {},
   "outputs": [
    {
     "name": "stdout",
     "output_type": "stream",
     "text": [
      "Link density: 0.025814135861437906\n",
      "Calculating closeness...\n",
      "Calculating node betweenness...\n",
      "Calculating local clustering coefficients...\n",
      "Calculating average link distance...\n",
      "Calculating angular great circle distance using Cython...\n",
      "Calculating maximum link distance...\n"
     ]
    }
   ],
   "source": [
    "print(\"Link density:\", net.link_density)\n",
    "\n",
    "#  Get degree\n",
    "degree = net.degree()\n",
    "#  Get closeness\n",
    "closeness = net.closeness()\n",
    "#  Get betweenness\n",
    "betweenness = net.betweenness()\n",
    "#  Get local clustering coefficient\n",
    "clustering = net.local_clustering()\n",
    "#  Get average link distance\n",
    "ald = net.average_link_distance()\n",
    "#  Get maximum link distance\n",
    "mld = net.max_link_distance()\n",
    "\n",
    "#\n",
    "#  Save results to text file\n",
    "#\n",
    "\n",
    "#  Save the grid (mainly vertex coordinates) to text files\n",
    "data.grid.save_txt(filename=\"grid.txt\")\n",
    "\n",
    "#  Save the degree sequence. Other measures may be saved similarly.\n",
    "np.savetxt(\"degree.txt\", degree)"
   ]
  },
  {
   "cell_type": "markdown",
   "id": "15af9941",
   "metadata": {},
   "source": [
    "### Plotting"
   ]
  },
  {
   "cell_type": "markdown",
   "id": "4ee5b44c",
   "metadata": {},
   "source": [
    "`pyunicorn` provides a basic plotting feature based on the cartopy package and matplotlib that can be used to have a first look at the generated data. Also the plotting with the `pyNGL` package is still supported but not recommended, as it is deprecated and its development currently at halt in favor for the cartopy project. For plotting in pyunicorn with `pyNGL` an old tutorial can be found in `examples\\tutorials\\climate_networks.py`."
   ]
  },
  {
   "cell_type": "markdown",
   "id": "3ba76b85",
   "metadata": {},
   "source": [
    "#### Cartopy"
   ]
  },
  {
   "cell_type": "markdown",
   "id": "80c32759",
   "metadata": {},
   "source": [
    "For more info on and how to install cartopy please check out their webpage: https://scitools.org.uk/cartopy/docs/latest/ !\n",
    "\n",
    "*Copyright: Cartopy. Met Office. git@github.com:SciTools/cartopy.git.* "
   ]
  },
  {
   "cell_type": "markdown",
   "id": "51440d40",
   "metadata": {},
   "source": [
    "We start by creating a plot class, which later on we can modify by acessing its axes. "
   ]
  },
  {
   "cell_type": "code",
   "execution_count": 12,
   "id": "b823297c",
   "metadata": {
    "scrolled": false
   },
   "outputs": [
    {
     "name": "stdout",
     "output_type": "stream",
     "text": [
      "Created plot class.\n"
     ]
    }
   ],
   "source": [
    "# create a Cartopy plot instance called cn_plot (cn for climate network)\n",
    "# from the data with title DATA_SOURCE\n",
    "cn_plot = climate.CartopyPlots(data.grid, DATA_SOURCE)"
   ]
  },
  {
   "cell_type": "markdown",
   "id": "422af668",
   "metadata": {},
   "source": [
    "Now we add the network measures that we want to plot out via the `.add_dataset()` method, which takes a title and a network measure. The title will also be the name of the plot that will be saved."
   ]
  },
  {
   "cell_type": "code",
   "execution_count": 13,
   "id": "056f3a92",
   "metadata": {},
   "outputs": [],
   "source": [
    "# Add network measures to the plotting queue\n",
    "cn_plot.add_dataset(\"Degree\", degree)\n",
    "cn_plot.add_dataset(\"Closeness\", closeness)\n",
    "cn_plot.add_dataset(\"Betweenness (log10)\", np.log10(betweenness + 1))\n",
    "cn_plot.add_dataset(\"Clustering\", clustering)\n",
    "cn_plot.add_dataset(\"Average link distance\", ald)\n",
    "cn_plot.add_dataset(\"Maximum link distance\", mld)"
   ]
  },
  {
   "cell_type": "markdown",
   "id": "a76114b5",
   "metadata": {},
   "source": [
    "Before plotting, we can change the plots by accessing `ax`, since cartopy is based on `maplotlib`."
   ]
  },
  {
   "cell_type": "code",
   "execution_count": 19,
   "id": "9a001877",
   "metadata": {
    "scrolled": true
   },
   "outputs": [
    {
     "data": {
      "text/plain": [
       "<Figure size 640x480 with 0 Axes>"
      ]
     },
     "metadata": {},
     "output_type": "display_data"
    }
   ],
   "source": [
    "ax = plt.set_cmap('plasma') "
   ]
  },
  {
   "cell_type": "markdown",
   "id": "33c0f03c",
   "metadata": {},
   "source": [
    "Now we can generate the plots in the current directory."
   ]
  },
  {
   "cell_type": "code",
   "execution_count": 24,
   "id": "73aa161c",
   "metadata": {
    "scrolled": true
   },
   "outputs": [
    {
     "name": "stdout",
     "output_type": "stream",
     "text": [
      "Created and saved plots @ current directory.\n"
     ]
    }
   ],
   "source": [
    "# Plot with cartopy and matplotlib\n",
    "cn_plot.generate_plots(file_name=\"climate_network_measures\",\n",
    "                                 title_on=False, labels_on=True)"
   ]
  }
 ],
 "metadata": {
  "kernelspec": {
   "display_name": "Python 3 (ipykernel)",
   "language": "python",
   "name": "python3"
  },
  "language_info": {
   "codemirror_mode": {
    "name": "ipython",
    "version": 3
   },
   "file_extension": ".py",
   "mimetype": "text/x-python",
   "name": "python",
   "nbconvert_exporter": "python",
   "pygments_lexer": "ipython3",
   "version": "3.10.4"
  }
 },
 "nbformat": 4,
 "nbformat_minor": 5
}
