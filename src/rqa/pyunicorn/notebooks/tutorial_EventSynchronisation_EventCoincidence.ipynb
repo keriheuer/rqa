{
 "cells": [
  {
   "cell_type": "markdown",
   "id": "12877375",
   "metadata": {},
   "source": [
    "# Tutorial for performing event synchronization (ES) andevent coincidence analysis (ECA) as part of event series analysis"
   ]
  },
  {
   "cell_type": "markdown",
   "id": "efc240da",
   "metadata": {},
   "source": [
    "Written as part of a PhD thesis in Physics by Jonathan F. Donges (donges@pik-potsdam.de) at the Potsdam Institute of Climate Impact Research (PIK) and Humboldt University Berlin,\n",
    "\n",
    "Copyright 2008-2019."
   ]
  },
  {
   "cell_type": "markdown",
   "id": "f2f2eb59",
   "metadata": {},
   "source": [
    "Synchronisation measures of time series have been attracting attention in several research areas, including climatology or neuroscience.\n",
    "\n",
    "Synchronisation can be understood as a measure of interdependence or strong correlation between time series. \n",
    "The main use cases of synchrinisation are:\n",
    "- Quantification of similarities in phase space between two time series\n",
    "- Quantification of differences in phase space between two time series\n",
    "\n",
    "A research example of synchronisation phenomena is the analysis electroencephalographic (EEG) signals as a major infleuncing factor to understand the communication within the brain. See [Quiroga et al., 2001](https://journals.aps.org/pre/abstract/10.1103/PhysRevE.65.041903)\n",
    "\n",
    "Two widely accepted measurement methods of synchronisation are **Event Synchronisation (ES)** and **Event Coincidence Analysis (ECA)**. The non-linear nature of these two methods makes them widely applicable for a wide range of utilizations. \n",
    "While ES does not include the difference in timescales when measuring synchrony, when using ECA a certain timescale has to be selected for analysis purposes.\n",
    "\n",
    "For more background information consult [Odenweller et al., 2020](https://journals.aps.org/pre/abstract/10.1103/PhysRevE.101.052213) or [Quiroga et al., 2001](https://www.researchgate.net/publication/11025829_Event_Synchronization_A_simple_and_fast_method_to_measure_synchronicity_and_time_delay_patterns)."
   ]
  },
  {
   "cell_type": "markdown",
   "id": "5424b801",
   "metadata": {},
   "source": [
    "### Event Synchronisation (ES)"
   ]
  },
  {
   "cell_type": "markdown",
   "id": "a0721685",
   "metadata": {},
   "source": [
    "As mentioned before, the paramter free method ES offers a fast and reliable method to measure synchronizations between time series.\n",
    "The fundamental idea of the method is illustrated by the picture below (from [Odenweller et al., 2020](https://journals.aps.org/pre/abstract/10.1103/PhysRevE.101.052213)):\n",
    "\n",
    "![Event Synchronisation](img/EventSynchronisation.png)\n",
    "\n",
    "Two events *l* and *m*, from timeseries *i* and *j* are considered synchroneous if they occur within a certain time interal $\\tau$  retrieved from the data properties. The time interval $\\tau$ is defined as:\n",
    "\n",
    "![](https://latex.codecogs.com/svg.image?\\tau_{lm}^{ij}&space;=&space;\\frac{1}{2}min[{&space;t_{l&plus;1}^{i}&space;-&space;t_{l}^{i},&space;t_{l}^{i}&space;-&space;t_{l-1}^{i},&space;t_{m&plus;1}^{j}&space;-&space;t_{m}^{j},&space;t_{m}^{j}&space;-&space;t_{m-1}^{j}&space;])\n",
    "\n",
    "From here the occurences of synchronised events in timeseries *i* when given an event in *j* gives:\n",
    "\n",
    "![](https://latex.codecogs.com/svg.image?c(i|j|)&space;=&space;\\sum_{l=2}^{s_i&space;-&space;1}\\sum_{m=2}^{s_j-1}J_{lm}^{im})\n",
    "\n",
    "whereby $J_{lm}^{im}$ counts the events that match the synchronization condition. For more detail on this, see [Odenweller et al., 2020](https://journals.aps.org/pre/abstract/10.1103/PhysRevE.101.052213).\n",
    "\n",
    "Finally, we can define the strength of event synchronisation between the timeseries *i* and *j* by:\n",
    "\n",
    "![](https://latex.codecogs.com/svg.image?Q_{ij}^{ES}&space;=&space;\\frac{c(i|j|)&space;&plus;&space;c(j|i)}{\\sqrt{(s_i&space;-2)(s_j&space;-2)}})\n",
    "\n",
    "In the usual case for which the timeseries are not fully synchronized, $0 <= Q_{ij}^{ES} <= 1$. For total or abscent synchronisation $Q_{ij}^{ES} = 1$ or $Q_{ij}^{ES} = 0$, respectively. \n",
    "\n",
    "To generate a network from a set of timeseries, we can consider the the  $Q_{ij}^{ES}$ values, as the coefficients of a square symmetric matrix $Q^{ES}$, from which an unidrected network from multivariate data can be constructed. \n",
    "It is to be noted that fully synchronized time series will adapt a value of $Q_{ii}^{ES} = Q_{jj}^{ES} = 1$. \n",
    "\n",
    "The advatage of ES is that no parameters, specially a delay specification of the two timeseries, has to selected a priori as the algorithm classifies two events as snychronized automatically. "
   ]
  },
  {
   "cell_type": "markdown",
   "id": "1efab43e",
   "metadata": {},
   "source": [
    "### Event coincidence analysis (ECA)"
   ]
  },
  {
   "cell_type": "markdown",
   "id": "fae1001e",
   "metadata": {},
   "source": [
    "In contrary to ES, ECA is characterized by the incorporation of a *static (global) coincidence intervals*. Hereby a tolerance interval $\\Delta$T is defined so that for events in *j* at $t_{m}^{i}$ preceding events in *i* at $t_{l}^{i}$ obey to $0 <= t_{l}^{i} -  t_{m}^{j} <= $ $\\Delta$T. The fundamental idea of the method is illustrated by the picture below (from [Odenweller et al., 2020](https://journals.aps.org/pre/abstract/10.1103/PhysRevE.101.052213)):\n",
    "\n",
    "![ECA](img/ECA.png)\n",
    "\n",
    "It is to be noted, When determining the coincidence rate while performing ECA, the differentiation between *precursor* and *trigger* event coincidence rates applies. The former refers to the number of events in *i* that precede the events in *j*. The trigger rates, on the other hand, quantify the events in *j* that precede at least one event in *i*.  \n",
    "\n",
    "Thus, the definition of the precursor event coincidence rate is defined as:\n",
    "\n",
    "![](https://latex.codecogs.com/svg.image?r_p(i|j;&space;\\Delta&space;T,&space;\\tau)&space;=&space;\\frac{1}{s_i&space;-&space;s_{i}^{'}}&space;\\sum_{l=1&plus;s_{i}^{'}}^{s_i}\\Theta&space;[{&space;\\sum_{m=1}^{s_j}1_{[0,\\Delta&space;T]\\left&space;[&space;(t_{l}^{i}&space;-&space;\\tau)&space;-t_m^j&space;\\right&space;]}]})\n",
    "\n",
    "The trigger event cincidence rate on the other hand is defined as:\n",
    "\n",
    "![](https://latex.codecogs.com/svg.image?r_p(i|j;&space;\\Delta&space;T,&space;\\tau)&space;=&space;\\frac{1}{s_i&space;-&space;s_{i}^{''}}\\sum_{m=1}^{s_j&space;-&space;s_j^{''}}\\Theta[\\sum_{l=1}^{s_i}1__{[0,&space;\\Delta&space;T]}((t_l^i&space;-&space;\\tau)&space;-&space;t_m^j)])\n",
    "\n",
    "For detailed information on the calculation of e.g. $s_i^{''}$ or $s_j^{''}$, consult [Odenweller et al., 2020](https://journals.aps.org/pre/abstract/10.1103/PhysRevE.101.052213)). \n",
    "\n",
    "By changing the indices of the precursor and trigger rate, one gets the rate in the other directions e.g. for $r_t(i|j; \\Delta T, \\tau)$.\n",
    "\n",
    "Subsequently the ECA analysis gives out four coincidence rates: the precursor and trigger rates evaluated in a bi-directional manner. \n",
    "\n",
    "To construct the event matrix composed by a single association measure, one can take the mean or the maximum value of the two tigger coincidence rates $r_p(i|j; \\Delta T,\\tau)$ and $r_p(j|i;\\Delta;T,\\tau)$ to compute the *degree of event synchrony* $Q_{ij}^{ECA, mean}$ or $Q_{ij}^{ECA, max}$."
   ]
  },
  {
   "cell_type": "markdown",
   "id": "8a82f258",
   "metadata": {},
   "source": [
    "## ES and ECA analysis of simple random event series"
   ]
  },
  {
   "cell_type": "markdown",
   "id": "4dbe6d18",
   "metadata": {},
   "source": [
    "`pyunicorn` provides a class for event synchronization (ES) and\n",
    "event coincidence analysis (ECA). In addition, a method for the generation of\n",
    "binary event series from continuous time series data (method `make_event_matrix`, is included."
   ]
  },
  {
   "cell_type": "markdown",
   "id": "fe16ce2c",
   "metadata": {},
   "source": [
    "First we import all necessary packages"
   ]
  },
  {
   "cell_type": "code",
   "execution_count": 185,
   "id": "82ab6709",
   "metadata": {},
   "outputs": [],
   "source": [
    "import numpy as np\n",
    "import pylab\n",
    "import math\n",
    "import random\n",
    "import matplotlib.pyplot as plt\n",
    "from pyunicorn.timeseries import RecurrenceNetwork\n",
    "from pyunicorn.timeseries import RecurrencePlot\n",
    "from pyunicorn.core import Network\n",
    "from pyunicorn.eventseries import EventSeries as EV"
   ]
  },
  {
   "cell_type": "markdown",
   "id": "7f2e09e3",
   "metadata": {},
   "source": [
    "Next we create a toy data example.\n",
    "The data structure has to follow an event matrix style, whereby the first axis represents the timesteps and the second axis covers the variables. Each variable at a specific timestep is either '1' if an event occured or '0' if it did not, e.g. for 3 variables with 10 timesteps the\n",
    "eventmatrix could look like:"
   ]
  },
  {
   "cell_type": "code",
   "execution_count": 172,
   "id": "a2c1ca5e",
   "metadata": {},
   "outputs": [],
   "source": [
    "series = np.array([[0, 1, 0],\n",
    "       [0, 0, 0],\n",
    "       [0, 0, 0],\n",
    "       [1, 0, 1],\n",
    "       [0, 1, 0],\n",
    "       [0, 0, 0],\n",
    "       [0, 0, 0],\n",
    "       [0, 0, 0],\n",
    "       [0, 1, 0],\n",
    "       [0, 0, 0]])"
   ]
  },
  {
   "cell_type": "markdown",
   "id": "f1991e38",
   "metadata": {},
   "source": [
    "Now we apply the class `EventSeries` to our data to initialize the process of synchronization analyis."
   ]
  },
  {
   "cell_type": "code",
   "execution_count": 174,
   "id": "eeddb65f",
   "metadata": {},
   "outputs": [
    {
     "name": "stdout",
     "output_type": "stream",
     "text": [
      "The initialized Event Series of the examples is EventSeries: 3 variables, 10 timesteps, taumax: 1.0, lag: 0.0\n"
     ]
    }
   ],
   "source": [
    "ev = EV(series, taumax=1)\n",
    "print(f\"The initialized Event Series of the examples is\", ev)"
   ]
  },
  {
   "cell_type": "markdown",
   "id": "82290301",
   "metadata": {},
   "source": [
    "From here, the initialized data variables can be analyzed in terms of synchrony by applying the methods of `pyunicorn` to calculate ES and ECA"
   ]
  },
  {
   "cell_type": "markdown",
   "id": "c350db9f",
   "metadata": {},
   "source": [
    "Note: the argument `tau_max` which is defined automatically as infinite when not specified when creating the EventSeries, represents the maximum time difference between two events to be considered synchronous. Caution: For ES, the default is np.inf because of the intrinsic dynamic coincidence interval in ES. For ECA, taumax is a parameter of the method that needs to be defined!"
   ]
  },
  {
   "cell_type": "code",
   "execution_count": 177,
   "id": "9295b844",
   "metadata": {},
   "outputs": [
    {
     "name": "stdout",
     "output_type": "stream",
     "text": [
      "(0.42857142857142855, 0.42857142857142855)\n",
      "(1.0, 1.0, 1.0, 1.0)\n"
     ]
    }
   ],
   "source": [
    "#Check for ES and ECA synchronization between two variables x and y of the generated dataset\n",
    "\n",
    "print(ev.event_synchronization(series[:,0], series[:, 2]))\n",
    "print(ev.event_coincidence_analysis(series[:,0], series[:, 2], taumax=1)) #Taumax has to be selected when calculating ECA; taumax=1 was selected for simplicity"
   ]
  },
  {
   "cell_type": "markdown",
   "id": "5c68ceac",
   "metadata": {},
   "source": [
    "- The return of the ES  method is [Event synchronization XY, Event synchronization YX]\n",
    "- The return of the ECA methos is[ Precursor coincidence rate XY, Trigger coincidence rate XY, Precursor coincidence rate YX, Trigger coincidence rate YX]"
   ]
  },
  {
   "cell_type": "markdown",
   "id": "80260d7e",
   "metadata": {},
   "source": [
    "If input data is not provided as an eventmatrix, the constructor tries to generate one from continuous time series data using the `make_event_matrix` method. Hereby the argument `threshold_method` needs to be specified along with the argument `threshold_values`. `threshold_method` can be 'quantile',  'value' or 1D numpy array  with entries 'quantile' or 'value' for each variable. If 'value' is selected one has to specify a number lying in the range of the array; for quantile a number between 0 and 1 has to be selected as it specifies the percentage of the array's values which should be included in the event matrix. Additionally one can specify by the argument `threshold_type` if the threshold should be applied 'above' or 'below' the specified `threshold_method`. A simple example of finding the synchrony between variables x and y of a dataset reflecting continuous time series, would be:"
   ]
  },
  {
   "cell_type": "code",
   "execution_count": 178,
   "id": "56cec935",
   "metadata": {},
   "outputs": [],
   "source": [
    "series = 10*np.random.rand(10,3)\n",
    "series = series.astype(int)\n",
    "\n",
    "#Initialize dataset as EventSeries \n",
    "ev = EV(series[:, :2], threshold_method = 'quantile', threshold_values = 0.5, taumax=1)"
   ]
  },
  {
   "cell_type": "code",
   "execution_count": 179,
   "id": "08e046a8",
   "metadata": {},
   "outputs": [
    {
     "name": "stdout",
     "output_type": "stream",
     "text": [
      "(0.42857142857142855, 0.42857142857142855)\n",
      "(1.0, 1.0, 1.0, 1.0)\n"
     ]
    }
   ],
   "source": [
    "#Applying ES and ECA to find synchronity between variables x and y\n",
    "print(ev.event_synchronization(series[:,0], series[:, 1]))\n",
    "print(ev.event_coincidence_analysis(series[:,0], series[:, 1], taumax=1))"
   ]
  },
  {
   "cell_type": "code",
   "execution_count": 180,
   "id": "f6caefe2",
   "metadata": {},
   "outputs": [
    {
     "data": {
      "text/plain": [
       "(1.0, 1.0)"
      ]
     },
     "execution_count": 180,
     "metadata": {},
     "output_type": "execute_result"
    }
   ],
   "source": [
    "#When one just wants to get the precursorevent coincidence rates; _eca_coincidence_rate method can be used\n",
    "ev._eca_coincidence_rate(series[:, 0], series[:, 1], window_type = 'advanced')"
   ]
  },
  {
   "cell_type": "markdown",
   "id": "cd2a4196",
   "metadata": {},
   "source": [
    "To get the matrix to construct the functional unidirectional network described in the Introduction to ES and ECA at the beginning of the tutorial, the method `event_series_analysis` can be used. Hereby the method to anylize synchrony has to be specified by the argument `method` as *ES* or *ECA*.\n",
    "\n",
    "For detailed information on the calculation of the matrix and the required arguments when selecting *ES* or *ECA*, consult [pyunicorn Github](https://github.com/pik-copan/pyunicorn/blob/master/src/pyunicorn/eventseries/event_series.py)/from line 704.\n",
    "\n",
    "The return is a NxN matrix of the chosen event series where N is the number of variables. "
   ]
  },
  {
   "cell_type": "code",
   "execution_count": 181,
   "id": "0f5cf4b9",
   "metadata": {},
   "outputs": [
    {
     "name": "stdout",
     "output_type": "stream",
     "text": [
      "Matrix of Es strenghts is [[0.         0.16666667]\n",
      " [0.16666667 0.        ]]\n",
      "Matrix of ECA strengths is [[0.   0.75]\n",
      " [0.75 0.  ]]\n"
     ]
    }
   ],
   "source": [
    "matrix_ES = ev.event_series_analysis(method='ES')\n",
    "print(f\"Matrix of Es strenghts is\", matrix_ES)\n",
    "\n",
    "matrix_ECA = ev.event_series_analysis(method='ECA', symmetrization = 'mean', window_type = 'advanced')\n",
    "print(f\"Matrix of ECA strengths is\", matrix_ECA) #Symmetrization was selected according to Odenweller et al., 2020"
   ]
  },
  {
   "cell_type": "markdown",
   "id": "3cf206ad",
   "metadata": {},
   "source": [
    "Approaches of complex network theory can be now applied to the matrices calculated, as part of non-linear timeseries analysis. See jupyter notebook `tutorial_recurrenceNetwork`."
   ]
  },
  {
   "cell_type": "markdown",
   "id": "6376d465",
   "metadata": {},
   "source": [
    "### Significance level calculations"
   ]
  },
  {
   "cell_type": "markdown",
   "id": "d28b190a",
   "metadata": {},
   "source": [
    "The signifcance levels of event synchronisation can be calculated using pyunicorn too. The package provides to methods `_empirical_percentiles` and `event_analysis_significance`, to either calcuate the p-values through a Monte Carlo approach or the signifcance levels ( 1 - p-values) through a Poisson process from an event matrix, repectively.\n",
    "\n",
    "For detailed information on the calculation of the significance levels consult [pyunicorn Github](https://github.com/pik-copan/pyunicorn/blob/master/src/pyunicorn/eventseries/event_series.py)/from line 830."
   ]
  },
  {
   "cell_type": "code",
   "execution_count": 182,
   "id": "0bf34e66",
   "metadata": {},
   "outputs": [
    {
     "name": "stdout",
     "output_type": "stream",
     "text": [
      "[[0.   0.13]\n",
      " [0.12 0.  ]]\n",
      "[[0.    0.388]\n",
      " [0.388 0.   ]]\n"
     ]
    }
   ],
   "source": [
    "MonteCarlo_ES = ev._empirical_percentiles(method='ES', n_surr=1000)\n",
    "print(MonteCarlo_ES)\n",
    "MonteCarlo_ECA = ev._empirical_percentiles(method='ECA', n_surr=1000, symmetrization = 'mean', window_type = 'advanced')\n",
    "print(MonteCarlo_ECA)"
   ]
  },
  {
   "cell_type": "code",
   "execution_count": 183,
   "id": "726c572a",
   "metadata": {},
   "outputs": [
    {
     "name": "stdout",
     "output_type": "stream",
     "text": [
      "[[0.    0.128]\n",
      " [0.115 0.   ]]\n",
      "[[0.    0.364]\n",
      " [0.364 0.   ]]\n"
     ]
    }
   ],
   "source": [
    "Poisson_ES = ev.event_analysis_significance(method='ES', n_surr=1000)\n",
    "print(Poisson_ES)\n",
    "Poisson_ECA = ev.event_analysis_significance(method='ECA', n_surr=1000, symmetrization = 'mean', window_type = 'advanced')\n",
    "print(Poisson_ECA)"
   ]
  },
  {
   "cell_type": "markdown",
   "id": "cb3c47de",
   "metadata": {},
   "source": [
    "##  ES and ECA analysis to generate a climate network"
   ]
  },
  {
   "cell_type": "markdown",
   "id": "8671e524",
   "metadata": {},
   "source": [
    "Further application of the ES and ECA analysis is the possible generation of a climate network using the resulting ES and ECA matrices from the calculations shown above. This can be done by using the pyunicorn Class `EventSeriesClimateNetwork`. An example will be shown next. "
   ]
  },
  {
   "cell_type": "markdown",
   "id": "4befd006",
   "metadata": {},
   "source": [
    "Note: If other applications of event series networks are desired, use the `EventSeries` Class together with `Network` Class"
   ]
  },
  {
   "cell_type": "code",
   "execution_count": 204,
   "id": "ea03f3ea",
   "metadata": {},
   "outputs": [],
   "source": [
    "#import additonal packages to generate Climate Networks \n",
    "from pyunicorn.climate.eventseries_climatenetwork import EventSeriesClimateNetwork\n",
    "from pyunicorn.climate.climate_network import ClimateNetwork  \n",
    "from pyunicorn.climate.climate_data import ClimateData\n",
    "from pyunicorn.core import Data #Encapsulates general spatio-temporal data"
   ]
  },
  {
   "cell_type": "markdown",
   "id": "c33df5f1",
   "metadata": {},
   "source": [
    "We shall use the small test climate dataset provided by the Class  `EventSeriesClimateNetwork`. See [pyunicorn Github repository describing Class EventSeriesClimateNetwork](https://github.com/pik-copan/pyunicorn/blob/master/src/pyunicorn/climate/eventseries_climatenetwork.py) for more specifications."
   ]
  },
  {
   "cell_type": "code",
   "execution_count": 205,
   "id": "9b8c2e94",
   "metadata": {},
   "outputs": [
    {
     "name": "stdout",
     "output_type": "stream",
     "text": [
      "Information of dataset generated Data: 6 grid points, 60 measurements.\n",
      "Geographical boundaries:\n",
      "         time     lat     lon\n",
      "   min    0.0    0.00    2.50\n",
      "   max    9.0   25.00   15.00\n",
      "Observables of dataset generated [[ 0.00000000e+00  1.00000000e+00  1.22464680e-16 -1.00000000e+00\n",
      "  -2.44929360e-16  1.00000000e+00]\n",
      " [ 3.09016994e-01  9.51056516e-01 -3.09016994e-01 -9.51056516e-01\n",
      "   3.09016994e-01  9.51056516e-01]\n",
      " [ 5.87785252e-01  8.09016994e-01 -5.87785252e-01 -8.09016994e-01\n",
      "   5.87785252e-01  8.09016994e-01]\n",
      " [ 8.09016994e-01  5.87785252e-01 -8.09016994e-01 -5.87785252e-01\n",
      "   8.09016994e-01  5.87785252e-01]\n",
      " [ 9.51056516e-01  3.09016994e-01 -9.51056516e-01 -3.09016994e-01\n",
      "   9.51056516e-01  3.09016994e-01]\n",
      " [ 1.00000000e+00  1.22464680e-16 -1.00000000e+00 -2.44929360e-16\n",
      "   1.00000000e+00  3.67394040e-16]\n",
      " [ 9.51056516e-01 -3.09016994e-01 -9.51056516e-01  3.09016994e-01\n",
      "   9.51056516e-01 -3.09016994e-01]\n",
      " [ 8.09016994e-01 -5.87785252e-01 -8.09016994e-01  5.87785252e-01\n",
      "   8.09016994e-01 -5.87785252e-01]\n",
      " [ 5.87785252e-01 -8.09016994e-01 -5.87785252e-01  8.09016994e-01\n",
      "   5.87785252e-01 -8.09016994e-01]\n",
      " [ 3.09016994e-01 -9.51056516e-01 -3.09016994e-01  9.51056516e-01\n",
      "   3.09016994e-01 -9.51056516e-01]]\n"
     ]
    }
   ],
   "source": [
    "#Generate Test dataset and returns ClimateData instance for testing purposes\n",
    "data = Data.SmallTestData() #Return test data set of 6 time series with 10 sampling points each\n",
    "print(f\"Information of dataset generated\", data)\n",
    "\n",
    "#To actually print out the \"observables\" of the toy climate dataset\n",
    "print(f\"Observables of dataset generated\", data.observable())"
   ]
  },
  {
   "cell_type": "markdown",
   "id": "1e90b671",
   "metadata": {},
   "source": [
    "The Class `ClimateData` is applied by definition on the Test dataset for generating and analyzing complex climate networks. See [Github repository describing Class ClimateData](https://github.com/pik-copan/pyunicorn/blob/1e0eb4d8e6e4ec07254d425975b154ee1519dfe1/src/pyunicorn/climate/climate_data.py#L36). \\\n",
    "**Note**: `ClimateData` Class shall be applied to a newly generated dataset of observables if not `SmallTestData()`"
   ]
  },
  {
   "cell_type": "code",
   "execution_count": 206,
   "id": "e591bcf2",
   "metadata": {},
   "outputs": [
    {
     "name": "stdout",
     "output_type": "stream",
     "text": [
      "Extracting network adjacency matrix by thresholding...\n",
      "Setting area weights according to type surface ...\n",
      "Setting area weights according to type surface ...\n",
      "The output of event series analysis is EventSeriesClimateNetwork:\n",
      "EventSeries: 6 variables, 10 timesteps, taumax: 16.0, lag: 0.0\n",
      "ClimateNetwork:\n",
      "GeoNetwork:\n",
      "SpatialNetwork:\n",
      "Network: directed, 6 nodes, 0 links, link density 0.000.\n",
      "Geographical boundaries:\n",
      "         time     lat     lon\n",
      "   min    0.0    0.00    2.50\n",
      "   max    9.0   25.00   15.00\n",
      "Threshold: 0\n",
      "Local connections filtered out: False\n",
      "Type of event series measure to construct the network: directedES\n"
     ]
    }
   ],
   "source": [
    "#Apply the EventSeriesClimateNetwork to the toy climate data generated\n",
    "climate_ES = EventSeriesClimateNetwork(data, taumax=16.0,\n",
    "      threshold_method='quantile', threshold_values=0.8,\n",
    "        threshold_types='above') #'ES' method is default\n",
    "\n",
    "print(f\"The output of event series analysis is\", climate_ES)"
   ]
  },
  {
   "cell_type": "code",
   "execution_count": 207,
   "id": "bbb03017",
   "metadata": {},
   "outputs": [
    {
     "name": "stdout",
     "output_type": "stream",
     "text": [
      "Extracting network adjacency matrix by thresholding...\n",
      "Setting area weights according to type surface ...\n",
      "Setting area weights according to type surface ...\n",
      "The output of event series analysis is EventSeriesClimateNetwork:\n",
      "EventSeries: 6 variables, 10 timesteps, taumax: 16.0, lag: 0.0\n",
      "ClimateNetwork:\n",
      "GeoNetwork:\n",
      "SpatialNetwork:\n",
      "Network: directed, 6 nodes, 0 links, link density 0.000.\n",
      "Geographical boundaries:\n",
      "         time     lat     lon\n",
      "   min    0.0    0.00    2.50\n",
      "   max    9.0   25.00   15.00\n",
      "Threshold: 0\n",
      "Local connections filtered out: False\n",
      "Type of event series measure to construct the network: directedECA\n"
     ]
    }
   ],
   "source": [
    "#Try out for ECA analysis\n",
    "climate_ECA = EventSeriesClimateNetwork(data, method = 'ECA', taumax=16.0,\n",
    "      threshold_method='quantile', threshold_values=0.8,\n",
    "        threshold_types='above') #'ES' method is default\n",
    "\n",
    "print(f\"The output of event series analysis is\", climate_ECA)"
   ]
  }
 ],
 "metadata": {
  "kernelspec": {
   "display_name": "Python 3 (ipykernel)",
   "language": "python",
   "name": "python3"
  },
  "language_info": {
   "codemirror_mode": {
    "name": "ipython",
    "version": 3
   },
   "file_extension": ".py",
   "mimetype": "text/x-python",
   "name": "python",
   "nbconvert_exporter": "python",
   "pygments_lexer": "ipython3",
   "version": "3.7.13"
  }
 },
 "nbformat": 4,
 "nbformat_minor": 5
}
