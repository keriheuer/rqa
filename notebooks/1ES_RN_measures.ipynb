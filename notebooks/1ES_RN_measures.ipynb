{
 "cells": [
  {
   "cell_type": "code",
   "execution_count": null,
   "metadata": {},
   "outputs": [],
   "source": []
  },
  {
   "cell_type": "code",
   "execution_count": null,
   "metadata": {},
   "outputs": [],
   "source": [
    "for graph, label in zip([G, DHO_G], ['Original Data', 'DHO Predicted']):\n",
    "\n",
    "    # Girvan-Newman community detection\n",
    "    communities = nx.community.girvan_newman(graph)\n",
    "\n",
    "    # Get the top level communities\n",
    "    top_level_communities = next(communities)\n",
    "    detected_communities = [list(c) for c in sorted(map(sorted, top_level_communities))]\n",
    "\n",
    "    print(f\"{label} number of communities: {len(detected_communities)}\")\n"
   ]
  },
  {
   "cell_type": "code",
   "execution_count": null,
   "metadata": {},
   "outputs": [],
   "source": [
    "# Compute the degree of each node (number of connections)\n",
    "degrees = nx.degree(G)\n",
    "\n",
    "# Sort nodes by degree in descending order\n",
    "sorted_nodes_by_degree = sorted(degrees, key=lambda pair: pair[1], reverse=True)\n",
    "\n",
    "# Get the top N nodes with the highest degree\n",
    "N = 10  # For example, to get the top 5 most connected nodes\n",
    "top_nodes_by_degree = sorted_nodes_by_degree[:N]\n",
    "\n",
    "# Extract the node identifiers and their corresponding degrees\n",
    "top_node_ids = [node_id for node_id, degree in top_nodes_by_degree]\n",
    "top_node_degrees = [degree for node_id, degree in top_nodes_by_degree]\n",
    "\n",
    "hubs = pd.DataFrame([(x,y) for x,y in zip(top_node_ids, top_node_degrees)], columns=['Node ID', 'Node Degree'])\n",
    "\n",
    "# now get the hubs for DHO predicted network\n",
    "degrees = nx.degree(DHO_G)\n",
    "\n",
    "sorted_nodes_by_degree = sorted(degrees, key=lambda pair: pair[1], reverse=True)\n",
    "top_nodes_by_degree = sorted_nodes_by_degree[:N]\n",
    "\n",
    "# Extract the node identifiers and their corresponding degrees\n",
    "top_node_ids = [node_id for node_id, degree in top_nodes_by_degree]\n",
    "top_node_degrees = [degree for node_id, degree in top_nodes_by_degree]\n",
    "\n",
    "hubs['DHO Node ID'] = top_node_ids\n",
    "hubs['DHO Node Degree'] = top_node_degrees\n",
    "\n",
    "hubs.to_csv('../data/1ES_compare_DHO_RN_hubs.csv', index=None)\n",
    "hubs"
   ]
  },
  {
   "cell_type": "code",
   "execution_count": null,
   "metadata": {},
   "outputs": [],
   "source": [
    "lilac = \"#c994c7\"\n",
    "plt.figure()\n",
    "\n",
    "for day in [418, 636]:\n",
    "    plt.axvline(day, color='grey', alpha=0.7, linestyle=\":\")\n",
    "\n",
    "node_degrees = sorted(nx.degree(DHO_G), key=lambda pair: pair[0], reverse=False)\n",
    "degrees = [x[1] for x in node_degrees]\n",
    "plt.plot(degrees, color=lilac, label='DHO', linewidth=1)\n",
    "\n",
    "node_degrees = sorted(nx.degree(G), key=lambda pair: pair[0], reverse=False)\n",
    "degrees = [x[1] for x in node_degrees]\n",
    "plt.plot(degrees, color='k', label='1ES', zorder=2, linewidth=1)\n",
    "\n",
    "plt.legend()\n",
    "plt.xlabel(r't_{rest} (days)')\n",
    "plt.ylabel('Node Degree')\n",
    "plt.show()"
   ]
  },
  {
   "cell_type": "code",
   "execution_count": null,
   "metadata": {},
   "outputs": [],
   "source": [
    "from statistics import *\n",
    "get_graph_measures(G)\n"
   ]
  },
  {
   "cell_type": "code",
   "execution_count": null,
   "metadata": {},
   "outputs": [],
   "source": [
    "# modularity -- a measure of the strength of the division of a network into communities\n",
    "# High modularity means dense connections between the nodes within communities but sparse connections between nodes in different communities.\n",
    "modularity = community_louvain.modularity(partition, G)\n",
    "print(f\"Overall Modularity of the Network: {modularity}\")\n",
    "\n",
    "centrality = nx.betweenness_centrality(G)\n",
    "print(f\"Community {i}: Centrality {centrality}\")\n",
    "\n",
    "# inter-community edges (number of edges that connect nodes of one community to another can be insightfu)\n",
    "inter_community_edges = sum(1 for edge in G.edges() if partition[edge[0]] != partition[edge[1]])\n",
    "print(f\"Number of Inter-Community Edges: {inter_community_edges}\")\n",
    "\n",
    "total_edges = G.number_of_edges()\n",
    "print(f\"The total number of edges in the visibility graph: {total_edges}\")\n",
    "\n",
    "print(\"\\n\\nDHO PRED\")\n",
    "modularity = community_louvain.modularity(dho_partition, DHO_G)\n",
    "print(f\"Overall Modularity of the Network: {modularity}\")\n",
    "\n",
    "centrality = nx.betweenness_centrality(DHO_G)\n",
    "print(f\"Community: Average Centrality {np.mean(list(centrality.values()))}\")\n",
    "\n",
    "inter_community_edges = sum(1 for edge in DHO_G.edges() if dho_partition[edge[0]] != dho_partition[edge[1]])\n",
    "print(f\"Number of Inter-Community Edges: {inter_community_edges}\")\n",
    "\n",
    "total_edges = DHO_G.number_of_edges()\n",
    "print(f\"The total number of edges in the visibility graph: {total_edges}\")\n",
    "\n"
   ]
  },
  {
   "cell_type": "code",
   "execution_count": null,
   "metadata": {},
   "outputs": [],
   "source": [
    "nr, nr_rd = nx.non_randomness(G)\n",
    "print(nr, nr_rd)\n",
    "\n",
    "dho_nr, dho_nr_rd = nx.non_randomness(DHO_G)\n",
    "print(dho_nr, dho_nr_rd)"
   ]
  },
  {
   "cell_type": "code",
   "execution_count": null,
   "metadata": {},
   "outputs": [],
   "source": [
    "# Compute global efficiency\n",
    "global_efficiency = nx.global_efficiency(G)\n",
    "\n",
    "# Compute local efficiency for each node and then take the average for network's local efficiency\n",
    "local_efficiency = nx.local_efficiency(G)\n",
    "\n",
    "print(\"Original data:\")\n",
    "print(\"Global efficiency:\", global_efficiency)\n",
    "print(\"Local efficiency:\", local_efficiency)\n",
    "\n",
    "# Compute global efficiency\n",
    "global_efficiency = nx.global_efficiency(DHO_G)\n",
    "\n",
    "# Compute local efficiency for each node and then take the average for network's local efficiency\n",
    "local_efficiency = nx.local_efficiency(DHO_G)\n",
    "\n",
    "print(\"DHO pred:\")\n",
    "print(\"Global efficiency:\", global_efficiency)\n",
    "print(\"Local efficiency:\", local_efficiency)"
   ]
  },
  {
   "cell_type": "code",
   "execution_count": null,
   "metadata": {},
   "outputs": [],
   "source": [
    "# Compute graph measures for each graph\n",
    "graph_measures_original = compute_basic_graph_measures(G)\n",
    "graph_measures_dho = compute_basic_graph_measures(DHO_G)\n",
    "\n",
    "graph_measure_names = list(graph_measures_original.keys())\n",
    "\n",
    "data = {\n",
    "    'Graph Measure': graph_measure_names,\n",
    "    'Original': [graph_measures_original[measure] for measure in graph_measure_names],\n",
    "    'DHO': [graph_measures_dho[measure] for measure in graph_measure_names]\n",
    "}\n",
    "\n",
    "# Create the DataFrame\n",
    "df_graph_measures = pd.DataFrame(data)\n",
    "print(df_graph_measures)\n"
   ]
  },
  {
   "cell_type": "code",
   "execution_count": null,
   "metadata": {},
   "outputs": [],
   "source": [
    "# compute windowed RN measures\n",
    "\n",
    "# # binned_ts = np.log10(binned_df['lumin'].values)\n",
    "# binned_ts = y\n",
    "# window_size = int(0.1*len(binned_ts))\n",
    "# step_size = int(0.1*window_size)\n",
    "# network_measures_df = compute_measures_in_parallel(binned_ts, window_size, step_size)\n",
    "# print(network_measures_df)"
   ]
  },
  {
   "cell_type": "code",
   "execution_count": null,
   "metadata": {},
   "outputs": [],
   "source": [
    "print(\"original data:\")\n",
    "compare_communities(nxg)\n",
    "\n",
    "print(\"\\n\\n DHO pred:\")\n",
    "compare_communities(dho_nxg)"
   ]
  },
  {
   "cell_type": "code",
   "execution_count": null,
   "metadata": {},
   "outputs": [],
   "source": [
    "\n",
    "community_transition_matrices = create_community_transition_matrices(communities_modularity)\n",
    "global_transition_matrix = create_transition_matrix(G)\n",
    "plot_diff_transition_matrix(community_transition_matrices, global_transition_matrix)"
   ]
  },
  {
   "cell_type": "code",
   "execution_count": null,
   "metadata": {},
   "outputs": [],
   "source": [
    "degrees = nx.degree(G)\n",
    "\n",
    "# degrees is a DegreeView object\n",
    "degree_dict = dict(degrees)\n",
    "\n",
    "# Extract degrees from the degree_dict\n",
    "degrees = [degree for node, degree in degree_dict.items()]\n",
    "\n",
    "# Plot histogram\n",
    "plt.hist(degrees, bins=range(min(degrees), max(degrees) + 2))\n",
    "plt.title('Histogram of Node Degrees')\n",
    "plt.xlabel('Degree')\n",
    "plt.ylabel('Number of Nodes')\n",
    "plt.show()"
   ]
  }
 ],
 "metadata": {
  "kernelspec": {
   "display_name": "base",
   "language": "python",
   "name": "python3"
  },
  "language_info": {
   "codemirror_mode": {
    "name": "ipython",
    "version": 3
   },
   "file_extension": ".py",
   "mimetype": "text/x-python",
   "name": "python",
   "nbconvert_exporter": "python",
   "pygments_lexer": "ipython3",
   "version": "3.11.5"
  }
 },
 "nbformat": 4,
 "nbformat_minor": 2
}
