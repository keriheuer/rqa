{
 "cells": [
  {
   "cell_type": "code",
   "execution_count": 1,
   "metadata": {},
   "outputs": [
    {
     "ename": "FileNotFoundError",
     "evalue": "[Errno 2] No such file or directory: '../rqa/data/example_rps/white_noise_rp.npy'",
     "output_type": "error",
     "traceback": [
      "\u001b[0;31m---------------------------------------------------------------------------\u001b[0m",
      "\u001b[0;31mFileNotFoundError\u001b[0m                         Traceback (most recent call last)",
      "Cell \u001b[0;32mIn[1], line 7\u001b[0m\n\u001b[1;32m      4\u001b[0m \u001b[38;5;28;01mfrom\u001b[39;00m \u001b[38;5;21;01mmatplotlib_inline\u001b[39;00m\u001b[38;5;21;01m.\u001b[39;00m\u001b[38;5;21;01mbackend_inline\u001b[39;00m \u001b[38;5;28;01mimport\u001b[39;00m set_matplotlib_formats\n\u001b[1;32m      5\u001b[0m set_matplotlib_formats(\u001b[38;5;124m'\u001b[39m\u001b[38;5;124msvg\u001b[39m\u001b[38;5;124m'\u001b[39m)\n\u001b[0;32m----> 7\u001b[0m white_noise \u001b[38;5;241m=\u001b[39m np\u001b[38;5;241m.\u001b[39mload(\u001b[38;5;124m\"\u001b[39m\u001b[38;5;124m../rqa/data/example_rps/white_noise_rp.npy\u001b[39m\u001b[38;5;124m\"\u001b[39m)\n\u001b[1;32m      8\u001b[0m sine \u001b[38;5;241m=\u001b[39m np\u001b[38;5;241m.\u001b[39mload(\u001b[38;5;124m\"\u001b[39m\u001b[38;5;124m../rqa/data/example_rps/sine_rp.npy\u001b[39m\u001b[38;5;124m\"\u001b[39m)\n\u001b[1;32m      9\u001b[0m super_sine \u001b[38;5;241m=\u001b[39m np\u001b[38;5;241m.\u001b[39mload(\u001b[38;5;124m\"\u001b[39m\u001b[38;5;124m../rqa/data/example_rps/super_sine_rp.npy\u001b[39m\u001b[38;5;124m\"\u001b[39m)\n",
      "File \u001b[0;32m/opt/homebrew/anaconda3/lib/python3.11/site-packages/numpy/lib/npyio.py:405\u001b[0m, in \u001b[0;36mload\u001b[0;34m(file, mmap_mode, allow_pickle, fix_imports, encoding, max_header_size)\u001b[0m\n\u001b[1;32m    403\u001b[0m     own_fid \u001b[38;5;241m=\u001b[39m \u001b[38;5;28;01mFalse\u001b[39;00m\n\u001b[1;32m    404\u001b[0m \u001b[38;5;28;01melse\u001b[39;00m:\n\u001b[0;32m--> 405\u001b[0m     fid \u001b[38;5;241m=\u001b[39m stack\u001b[38;5;241m.\u001b[39menter_context(\u001b[38;5;28mopen\u001b[39m(os_fspath(file), \u001b[38;5;124m\"\u001b[39m\u001b[38;5;124mrb\u001b[39m\u001b[38;5;124m\"\u001b[39m))\n\u001b[1;32m    406\u001b[0m     own_fid \u001b[38;5;241m=\u001b[39m \u001b[38;5;28;01mTrue\u001b[39;00m\n\u001b[1;32m    408\u001b[0m \u001b[38;5;66;03m# Code to distinguish from NumPy binary files and pickles.\u001b[39;00m\n",
      "\u001b[0;31mFileNotFoundError\u001b[0m: [Errno 2] No such file or directory: '../rqa/data/example_rps/white_noise_rp.npy'"
     ]
    }
   ],
   "source": [
    "import matplotlib.pyplot as plt\n",
    "import numpy as np, pandas as pd, sys\n",
    "\n",
    "from matplotlib_inline.backend_inline import set_matplotlib_formats\n",
    "set_matplotlib_formats('svg')\n",
    "\n",
    "white_noise = np.load(\"../src/rqa/data/example_rps/white_noise_rp.npy\")\n",
    "sine = np.load(\"../src/rqa/data/example_rps/sine_rp.npy\")\n",
    "super_sine = np.load(\"../src/rqa/data/example_rps/super_sine_rp.npy\")\n",
    "logi = np.load(\"../src/rqa/data/example_rps/logistic_map_rp.npy\")\n",
    "brownian = np.load(\"../src/rqa/data/example_rps/brownian_rp.npy\")"
   ]
  },
  {
   "cell_type": "code",
   "execution_count": null,
   "metadata": {},
   "outputs": [],
   "source": [
    "fig, ax = plt.subplots(ncols=5, figsize=(10,5))\n",
    "fig.subplots_adjust(wspace=0)\n",
    "\n",
    "systems = [white_noise, sine, super_sine, logi, brownian]\n",
    "names = ['White Noise', 'Sine', 'Sinusoid', 'Logistic Map', 'Brownian Motion']\n",
    "for rp, name, axis in zip(systems, names, ax.flatten()):\n",
    "    axis.matshow(rp, origin='lower', interpolation='none', cmap='Greys')\n",
    "    axis.tick_params(which=\"both\", axis=\"both\", left=False, top=False, right=False, bottom=False, labelbottom=False, labelleft=False, labeltop=False)\n",
    "    axis.set_title(name, fontsize=16)\n",
    "plt.savefig('characteristic_rps.pdf', bbox_inches='tight')\n",
    "plt.show()"
   ]
  },
  {
   "cell_type": "code",
   "execution_count": null,
   "metadata": {},
   "outputs": [],
   "source": [
    "\n",
    "fig, (ax, ax2) = plt.subplots(figsize=(10,5), ncols=2, layout='compressed')\n",
    "rp = RecurrencePlot(y_orig, metric='supremum', silence_level=2, local_recurrence_rate=0.08)\n",
    "pred_rp = RecurrencePlot(mu, metric='supremum', silence_level=2, local_recurrence_rate=0.08)\n",
    "ax.matshow(rp.recurrence_matrix(), origin='lower', interpolation='none', cmap='Greys')\n",
    "ax2.matshow(pred_rp.recurrence_matrix(), origin='lower', interpolation='none', cmap='Greys')\n",
    "for axis in (ax, ax2):\n",
    "    axis.set_xlabel(r't$_{rest}$ [days]')\n",
    "ax.tick_params(which=\"both\", axis=\"both\", labeltop=False, labelbottom=True, top=False, left=False, bottom=False)\n",
    "ax2.tick_params(which=\"both\", axis=\"both\", labeltop=False, labelbottom=True, top=False, left=False, bottom=False, labelleft=False)\n",
    "# axis.tick_params(which=\"both\", axis=\"both\", left=False, top=False, right=False, bottom=False, labelbottom=False, labelleft=False, labeltop=False)\n",
    "ax.set_ylabel(r't$_{rest}$ [days]')\n",
    "ax.set_title('1ES Unembedded RP')\n",
    "ax2.set_title('Best-fit DHO Unembedded RP')\n",
    "fig.savefig('1ES_RP_compare_DHO_RP_orig.pdf', bbox_inches='tight')\n",
    "plt.show()"
   ]
  },
  {
   "cell_type": "code",
   "execution_count": null,
   "metadata": {},
   "outputs": [],
   "source": [
    "from pyunicorn.timeseries import RecurrencePlot\n",
    "\n",
    "y, yerr = scale_lc(df['lumin'].values, df['error'].values)\n",
    "pred_y, pred_yerr = scale_lc(pred_df['lumin'].values, pred_df['error'].values)\n",
    "\n",
    "rp = RecurrencePlot(df['scaled lumin'].values, metric='supremum', silence_level=2, recurrence_rate=0.05, tau=9, dim=5)\n",
    "pred_rp = RecurrencePlot(pred_df['lumin'].values, metric='supremum', silence_level=2, recurrence_rate=0.05, tau=8, dim=6)\n",
    "\n",
    "fig, (ax, ax2) = plt.subplots(figsize=(10,5), ncols=2, layout='compressed')\n",
    "ax.matshow(rp.recurrence_matrix(), origin='lower', interpolation='none', cmap='Greys')\n",
    "ax2.matshow(pred_rp.recurrence_matrix(), origin='lower', interpolation='none', cmap='Greys')\n",
    "for axis in (ax, ax2):\n",
    "    axis.set_xlabel(r't$_{rest}$ [days]')\n",
    "ax.tick_params(which=\"both\", axis=\"both\", labeltop=False, labelbottom=True, top=False, left=False, bottom=False, right=False)\n",
    "ax2.tick_params(which=\"both\", axis=\"both\", labeltop=False, labelbottom=True, top=False, left=False, bottom=False, labelleft=False, right=False)\n",
    "# axis.tick_params(which=\"both\", axis=\"both\", left=False, top=False, right=False, bottom=False, labelbottom=False, labelleft=False, labeltop=False)\n",
    "ax.set_ylabel(r't$_{rest}$ [days]')\n",
    "# ax.set_title('1ES Unembedded RP')\n",
    "# ax2.set_title('Best-fit DHO Unembedded RP')\n",
    "ax.set_title('1ES Embedded RP')\n",
    "ax2.set_title('Best-fit DHO Embedded RP')\n",
    "plt.savefig('../plots/1ES_embedded_RP_compared_DHO_supremum_global_RR_0.05.pdf', bbox_inches='tight')\n",
    "plt.savefig('../plots/1ES_unembedded_RP_compared_DHO_supremum_global_RR_0.05.pdf', bbox_inches='tight')\n",
    "plt.show()"
   ]
  },
  {
   "cell_type": "code",
   "execution_count": null,
   "metadata": {},
   "outputs": [],
   "source": [
    "unbinned_df = pd.read_csv('/Users/keriheuer/Downloads/1ES_NICER_forKeri.txt', sep='\\t')\n",
    "unbinned_df = unbinned_df.sort_values(by='mjd', ascending=True)\n",
    "df = pd.read_csv('1ES_binned_lc.csv')\n",
    "pred_df = pd.read_csv('1ES_pred_DHO_lc.csv')\n",
    "\n",
    "rp = RecurrencePlot(df['scaled lumin'].values, metric='supremum', silence_level=2, local_recurrence_rate=0.05, tau=12, dim=5)\n",
    "pred_rp = RecurrencePlot(pred_df['lumin'].values, metric='supremum', silence_level=2, local_recurrence_rate=0.05, tau=8, dim=6)\n",
    "\n",
    "# save rp matrix to file\n",
    "np.save('../data/1ES_supremum_local_RR_0.05_recurrence_matrix.npy', rp.recurrence_matrix())\n",
    "np.save('../data/1ES_DHO_supremum_local_RR_0.05_recurrence_matrix.npy', pred_rp.recurrence_matrix())"
   ]
  },
  {
   "cell_type": "code",
   "execution_count": null,
   "metadata": {},
   "outputs": [],
   "source": [
    "from networks import *\n",
    "\n",
    "nodes = get_nodes(G, seed=42, aspect='equal', scale_nodes=0.5)\n",
    "dho_nodes = get_nodes(DHO_G, seed=42, aspect='equal', scale_nodes=0.5)\n",
    "\n",
    "save_nodes(nodes, '../data/1ES_RN_positions')\n",
    "save_nodes(dho_nodes, '../data/1ES_DHO_RN_positions')"
   ]
  }
 ],
 "metadata": {
  "kernelspec": {
   "display_name": "base",
   "language": "python",
   "name": "python3"
  },
  "language_info": {
   "codemirror_mode": {
    "name": "ipython",
    "version": 3
   },
   "file_extension": ".py",
   "mimetype": "text/x-python",
   "name": "python",
   "nbconvert_exporter": "python",
   "pygments_lexer": "ipython3",
   "version": "3.11.5"
  }
 },
 "nbformat": 4,
 "nbformat_minor": 2
}
