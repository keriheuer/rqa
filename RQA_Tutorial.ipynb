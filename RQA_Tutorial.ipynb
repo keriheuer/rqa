{
  "cells": [
    {
      "cell_type": "markdown",
      "metadata": {
        "id": "view-in-github",
        "colab_type": "text"
      },
      "source": [
        "<a href=\"https://colab.research.google.com/github/keriheuer/rqa/blob/main/RQA_Tutorial.ipynb\" target=\"_parent\"><img src=\"https://colab.research.google.com/assets/colab-badge.svg\" alt=\"Open In Colab\"/></a>"
      ]
    },
    {
      "cell_type": "markdown",
      "source": [
        "# Setup\n",
        "\n",
        "First, let's install some necessary packages and set up the notebook (this may take a minute or two).\n",
        "For optimal display of the widgets in this notebook, make sure your browser/window is full screen. And if you're running this in Google Colab, also make sure to close any tabs opened from the left sidebar (e.g. Files)."
      ],
      "metadata": {
        "id": "GD8-AUOSlJcG"
      },
      "id": "GD8-AUOSlJcG"
    },
    {
      "cell_type": "code",
      "execution_count": null,
      "id": "7ecebc4e",
      "metadata": {
        "id": "7ecebc4e"
      },
      "outputs": [],
      "source": [
        "# only need to run this cell if you're in Colab\n",
        "\n",
        "%%capture\n",
        "!sudo apt-get install texlive-latex-extra texlive-fonts-recommended dvipng cm-super   # install LaTeX\n",
        "!pip install -q git+https://github.com/keriheuer/rqa   # install RQA"
      ]
    },
    {
      "cell_type": "code",
      "source": [
        "from rqa import *\n",
        "%matplotlib widget\n",
        "\n",
        "try:\n",
        "  from google.colab import output\n",
        "  output.enable_custom_widget_manager() # need to enable Jupyter widgets if in Colab\n",
        "except:\n",
        "  pass"
      ],
      "metadata": {
        "id": "_xCh3l-lL4vp"
      },
      "id": "_xCh3l-lL4vp",
      "execution_count": null,
      "outputs": []
    },
    {
      "cell_type": "markdown",
      "id": "22ada272",
      "metadata": {
        "id": "22ada272"
      },
      "source": [
        "# Intro to Recurrence Analysis\n",
        "\n",
        "Recurrence analysis is a non-linear method of time series analysis from chaos theory that was originally developed to study phenomena not easily characterized by other techniques. Unlike linear techniques, recurrence analysis quantifies recurrences in a system's phase space trajectory, rather than the original time series. This approach enables recurrence analysis to describe the underlying dynamics of system without any loss of dynamical information from the observed signal.\n",
        "\n",
        "Recurrences in phase space trajectories can easily be visualized with a recurrence plot (RP). To construct the RP, every point in the time series $\\vec{x}(i)$ is compared to subsequent points $\\vec{x}(j)$ and a dot plotted if the difference is less than some threshold $\\varepsilon$. The resulting 2D pattern is a graphical representation of the recurrence matrix, defined as\n",
        "\n",
        "<p class=\"fw\" align=\"center\">\n",
        "</br>\n",
        "   <img src=\"https://raw.githubusercontent.com/keriheuer/rqa/2b69ad0812e6de45cd383d3ca040ca460ed88f06/images/recurrence_matrix.svg\" width=\"30%\">\n",
        "</p>\n",
        "\n",
        "\n",
        "where $\\Theta$ : $\\mathbf{R} \\rightarrow \\{0,1\\}$ is the Heaviside function and $\\varepsilon$ is the pre-defined tolerance. A dot in the RP (or 1 in the recurrence matrix) thus corresponds to a recurrence, which can be understood as a return of the trajectory to a previously visited region of phase space."
      ]
    },
    {
      "cell_type": "markdown",
      "id": "c1b80ea6",
      "metadata": {
        "id": "c1b80ea6"
      },
      "source": [
        "As such, RPs mostly consist of single dots and lines which either run parallel to the main diagonal (line of identity, $LOI$) or vertically/horizontally. These structures are referred to as diagonal lines and vertical lines, respectively. Because an RP is symmetric about the $LOI$, horizontal and vertical lines correspond to each other, so only vertical lines are considered when describing RPs.\n",
        "\n",
        "Because a dot in the RP represents a single recurrence, lines made of many dots correspond to a typical behaviour of the phase space trajectory. Diagonal lines represent segments of the phase space trajectory which run parallel for some time, while vertical lines represent segments which remain in the same region of phase space for some time.\n",
        "\n",
        "RPs are powerful tools for visualizing recurrences in phase space, but they can also be further quantified to describe the small-scale structures of RPs. Collectively known as Recurrence Quantitative Analysis (RQA), methods of measuring the number and distribution of RP features are used to distinguish between different types of dynamical systems and identify transitions in dynamical behavior. The main advantage of RQA is that it can even be successfully applied to short and non-stationary data, where other methods cannot."
      ]
    },
    {
      "cell_type": "markdown",
      "id": "b14af876",
      "metadata": {
        "id": "b14af876"
      },
      "source": [
        "---\n",
        "## Recurrence Plots (RPs) and Recurrence Quantitative Analysis (RQA)\n",
        "\n",
        "Listed below are RP features commonly associated with certain dynamics and several important RQA metrics which can be extracted from RPs. Try to spot these features in the RPs of some characteristic systems and use the dropdown menu to see whether their RQA metrics reflect these differences. Click on any of the RPs to zoom in and show it larger (to close the pop up, just click anywhere inside the whole figure on the left).\n",
        "\n",
        "<p align=\"center\" class=\"fw\">\n",
        "</br>\n",
        "   <img src=\"https://github.com/keriheuer/rqa/blob/main/src/rqa/data/RQA_metrics.png?raw=true\" width=\"100%\">\n",
        "</p>\n",
        "\n"
      ]
    },
    {
      "cell_type": "code",
      "execution_count": null,
      "id": "b217f62b",
      "metadata": {
        "id": "b217f62b"
      },
      "outputs": [],
      "source": [
        "c = CharacteristicRQA()"
      ]
    },
    {
      "cell_type": "markdown",
      "id": "3386a038",
      "metadata": {
        "id": "3386a038"
      },
      "source": [
        "If we look at the colors of different features in the thresholded RP (left), we can see how recurrences and non-recurrences correspond to small and large distances in phase space, respectively. Block-like patterns in the thresholded RP are plotted in darker colors on the right, meaning points are very close in phase space. Large white patches, on the other hand, are plotted in brighter colors, representing regions of phase space which are far away from each other.\n",
        "\n",
        "So in physical terms, we can understand recurrences (small distances in phase space) as repetitive features of the light curves and non-recurrences as states that are distinct and/or far from normal."
      ]
    },
    {
      "cell_type": "markdown",
      "id": "d0d9af49",
      "metadata": {
        "id": "d0d9af49"
      },
      "source": [
        "---\n",
        "# Recurrence Plots\n",
        "\n",
        "## Thresholded vs. Unthresholded RPs\n",
        "\n",
        "The RPs above were thresholded by a recurrence rate of 5%, meaning that black dots in the RP represent pairs of points separated by a phase space distance $d ≲ \\varepsilon$, where $\\varepsilon$ is chosen such that the RQA metric $RR$ is 5%. In other words, we pick a value for $\\varepsilon$ so that only 5% of the total number of points in the time series are recurrences.\n",
        "\n",
        "What happens when we look at distances in phase space over a range of recurrence rates? If we let $d = \\varepsilon$, the RP is unthresholded and  represents the distance matrix rather than the recurrence matrix. A dot is now colored by the distance between a pair of points in phase space, which allows us to visualize the RP as we increase the threshold $\\varepsilon$ from 0 to the maximum distance between any pair of points.\n",
        "\n",
        "In the below example, dark areas (purple) represent points in the phase space trajectory that are nearby each other, while light areas (yellow) represent pairs of points which would not be considered a recurrence even if we choose the largest possible value for $\\varepsilon$. Plotting the distance matrix is therefore a powerful way to visualize how similar or distinct different portions of a time series are.\n",
        "\n",
        "<style> .markdown {max_width: 100% !important; width: 100% !important}\n",
        "</style>\n",
        "\n",
        "<p float=\"left\" class=\"fw\">\n",
        "   <img src=\"https://raw.githubusercontent.com/keriheuer/rqa/2b69ad0812e6de45cd383d3ca040ca460ed88f06/images/rp_thresholding.svg\" width=\"100%\">\n",
        "</p>\n"
      ]
    },
    {
      "cell_type": "markdown",
      "id": "f4b32129",
      "metadata": {
        "id": "f4b32129"
      },
      "source": [
        "---\n",
        "# Constructing RPs from 1D time series\n",
        "\n",
        "So how exactly do we go from time series data to RPs? For a multi-dimensional time series, the distance between points in any 2 dimensions can be calculated. For a 1-dimensional time series, Takens' time delay theorem says we can reconstruct phase space by comparing the original signal to a delayed version of itself. This process creates a higher-dimensional embedding of the signal while preserving all information about the underlying system dynamics.\n",
        "\n",
        "<p align=\"center\">\n",
        "  <img src=\"https://raw.githubusercontent.com/keriheuer/rqa/53b713c6fa69f38883a6d1906d5e978052e58c18/images/takens_theorem.svg\" width=\"50%\">\n",
        "</p>\n",
        "\n",
        "Reconstructing phase space involves two important parameters: a time delay $\\tau$ and embedding dimension $m$. The time delay corresponds to the time difference between the original and delayed time series at a given $t=i$, while the embedding dimension is equal to the number of dimensions the reconstructed state vector $\\vec{x}(t)$ has. In the below example, we see that for $m=3$, we can compare the original signal $x=f(t)$ to two delayed signals, each separated by a time difference of $\\tau$, to construct a three-dimensional vector $\\vec{x}(t) = (x,y,z)$."
      ]
    },
    {
      "cell_type": "markdown",
      "id": "28f369e2",
      "metadata": {
        "id": "28f369e2"
      },
      "source": [
        "<p align=\"center\">\n",
        "<img src=\"https://raw.githubusercontent.com/keriheuer/rqa/53b713c6fa69f38883a6d1906d5e978052e58c18/images/3d_state_vector.svg\" width=\"300px\" height=\"300px\">\n",
        "\n",
        "<img src=\"https://raw.githubusercontent.com/keriheuer/rqa/ef01d5ebfa7c538456312bf8078580c6b522d3f6/src/rqa/data/state_space_legend.svg\" width=\"300px\">\n",
        "</p>"
      ]
    },
    {
      "cell_type": "markdown",
      "id": "942ca1de",
      "metadata": {
        "id": "942ca1de"
      },
      "source": [
        "---\n",
        "# Exploring RP Features\n",
        "\n",
        "Use the dropdown menu and sliders to generate different time series and observe how the RP changes visually.\n",
        "\n",
        "Do the number and thickness of diagonal or vertical lines change with different parameters of the system (i.e. frequency, amplitude)?\n",
        "\n",
        "Are certain patterns/features of the RP the same for a system even when the time series varies?\n",
        "\n",
        "To see what the RP looks like when we threshold it by a recurrence rate of 15%, toggle the button above the plot.\n",
        "\n",
        "Remember, the threshold is the max (threshold) phase space distance $\\varepsilon$ between a pair of points which are considered a recurrence. So thresholding by RR = 15% means we pick $\\varepsilon$ such that only 0.31 of the total number of points in the time series are recurrences."
      ]
    },
    {
      "cell_type": "code",
      "execution_count": null,
      "id": "c1684ae4",
      "metadata": {
        "scrolled": false,
        "id": "c1684ae4"
      },
      "outputs": [],
      "source": [
        "rps = GenerateRPs()"
      ]
    },
    {
      "cell_type": "markdown",
      "id": "ea66a9c6",
      "metadata": {
        "id": "ea66a9c6"
      },
      "source": [
        "---\n",
        "# Varying RQA Parameters\n",
        "\n",
        "Now let's look at how changing different parameters used in recurrence analysis (e.g., embedding parameters) affect the RP you constructed above and its RQA metrics.\n",
        "\n",
        "Use the sliders and toggle buttons to vary parameters. A few things to note:\n",
        "- By definition, the distance matrix will be the same regardless of the RR value and whether it's local vs. global as the RR parameter only affects the thresholded RP.\n",
        "- To see the Theiler window which is excluded from RQA calculations (i.e. toggling the button), make sure the 'Threshold RP' button is toggled on. The Theiler window is only used for RQA and not calculating phase space distances, so it is not overplotted on the distance matrix. By default, the Theiler window is set to 1 in order to exclude the main diagonal.\n",
        "- Changing the distance metric (i.e. what distance is calculated in phase space) will only be noticeable in the RP visually and in the RQA metrics when the time series is embedded (time delay and dimension $\\neq$ 1)."
      ]
    },
    {
      "cell_type": "code",
      "execution_count": null,
      "id": "8c783cde",
      "metadata": {
        "id": "8c783cde"
      },
      "outputs": [],
      "source": [
        "rps.varyParams()"
      ]
    },
    {
      "cell_type": "markdown",
      "id": "f42067be",
      "metadata": {
        "id": "f42067be"
      },
      "source": [
        "# Dynamical transitions revealed by RPs\n",
        "\n",
        "What happens when the dominant dynamics of a system change over time, such as from stochastic to periodic or from periodic to quasi-periodic? When the dynamics producing the observed signal change, so do the features characterizing that signal. Different features of the signal at different times can be understood as corresponding to distinct states of the system and would easily be seen in the RP. Indeed, recurrence analysis has been successfully used to detect dynamical transitions within the same system ________ [include refs?].\n",
        "\n",
        "In the astrophysics literature, there is a class of accreting supermassive black holes which appear to have been observed in different states. These rare \"changing-look\" objects exhibit extreme variability over a wide range of timescales. One might then expect these changes to be reflected in their RPs.\n",
        "\n",
        "Now that you have seen a few RPs from different types of stationary systems, let's see what the RP of a non-stationary system could look like. We'll simulate some dynamical changes by splicing together multiple time series and examine how that RP looks like in comparison to the ones we looked at above.\n",
        "\n",
        "Use the dropdown menus and sliders on the left to adjust the different segments of the combined time series. To outline the 3 \"windows\" or sub-RPs corresponding to each segment in the full RP, toggle the \"Outline RP windows\" button. You can leave this button toggled to keep the outlines visible while changing any parameter.\n",
        "\n",
        "To vary RQA parameters, use the sliders above the RP and the dropdown menu at the bottom to change the displayed RQA metric. The RQA metrics shown for each segment are computed by using the same RQA parameters as the full RP ($RR$, $\\tau$ and $m$) but only for its own segment of the time series (as denoted by color)."
      ]
    },
    {
      "cell_type": "code",
      "execution_count": null,
      "id": "90d75459",
      "metadata": {
        "scrolled": false,
        "id": "90d75459"
      },
      "outputs": [],
      "source": [
        "t = CombineTimeseries()"
      ]
    }
  ],
  "metadata": {
    "kernelspec": {
      "display_name": "Python 3",
      "name": "python3"
    },
    "language_info": {
      "codemirror_mode": {
        "name": "ipython",
        "version": 3
      },
      "file_extension": ".py",
      "mimetype": "text/x-python",
      "name": "python",
      "nbconvert_exporter": "python",
      "pygments_lexer": "ipython3",
      "version": "3.11.5"
    },
    "colab": {
      "provenance": [],
      "include_colab_link": true
    }
  },
  "nbformat": 4,
  "nbformat_minor": 5
}